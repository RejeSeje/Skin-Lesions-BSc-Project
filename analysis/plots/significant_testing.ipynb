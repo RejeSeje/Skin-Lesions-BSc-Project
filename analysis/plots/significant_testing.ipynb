{
 "cells": [
  {
   "cell_type": "code",
   "execution_count": 36,
   "metadata": {},
   "outputs": [],
   "source": [
    "from scipy.stats import mannwhitneyu\n",
    "import pandas as pd\n",
    "from statsmodels.formula.api import ols"
   ]
  },
  {
   "cell_type": "code",
   "execution_count": 37,
   "metadata": {},
   "outputs": [],
   "source": [
    "data_CNN = pd.read_csv(\"../../data/results/cnn_results/model_training_results_cnn_5_10may_R.csv\")\n",
    "data_LR = pd.read_csv(\"../../data/results/lr_results/lr_results_aug.csv\")"
   ]
  },
  {
   "cell_type": "code",
   "execution_count": 44,
   "metadata": {},
   "outputs": [
    {
     "name": "stdout",
     "output_type": "stream",
     "text": [
      "CNN ACC mean f&m p-value with mannwhitneyu: MannwhitneyuResult(statistic=755.5, pvalue=0.0006144153945033599)\n",
      "CNN AUROC mean f&m p-value with mannwhitneyu: MannwhitneyuResult(statistic=755.5, pvalue=0.0006144153945033599)\n",
      "LR ACC mean f&m p-value with mannwhitneyu: MannwhitneyuResult(statistic=7744.0, pvalue=0.9049652564134502)\n",
      "LR AUROC mean f&m p-value with mannwhitneyu: MannwhitneyuResult(statistic=7744.0, pvalue=0.9049652564134502)\n"
     ]
    }
   ],
   "source": [
    "def get_p_value_mannwhitneyu(df, name):\n",
    "    mwu_result_acc = mannwhitneyu(df[\"accuracy_female\"], df[\"accuracy_male\"], alternative=\"two-sided\")\n",
    "    mwu_result_auroc = mannwhitneyu(df[\"accuracy_female\"], df[\"accuracy_male\"], alternative=\"two-sided\")\n",
    "    print(f'{name} ACC mean f&m p-value with mannwhitneyu: {mwu_result_acc}')\n",
    "    print(f'{name} AUROC mean f&m p-value with mannwhitneyu: {mwu_result_auroc}')\n",
    "\n",
    "get_p_value_mannwhitneyu(data_CNN, 'CNN')\n",
    "get_p_value_mannwhitneyu(data_LR, 'LR')"
   ]
  },
  {
   "cell_type": "code",
   "execution_count": 39,
   "metadata": {},
   "outputs": [
    {
     "data": {
      "text/html": [
       "<div>\n",
       "<style scoped>\n",
       "    .dataframe tbody tr th:only-of-type {\n",
       "        vertical-align: middle;\n",
       "    }\n",
       "\n",
       "    .dataframe tbody tr th {\n",
       "        vertical-align: top;\n",
       "    }\n",
       "\n",
       "    .dataframe thead th {\n",
       "        text-align: right;\n",
       "    }\n",
       "</style>\n",
       "<table border=\"1\" class=\"dataframe\">\n",
       "  <thead>\n",
       "    <tr style=\"text-align: right;\">\n",
       "      <th></th>\n",
       "      <th>variation</th>\n",
       "      <th>accuracy</th>\n",
       "      <th>accuracy_female</th>\n",
       "      <th>accuracy_male</th>\n",
       "      <th>auroc</th>\n",
       "      <th>auroc_female</th>\n",
       "      <th>auroc_male</th>\n",
       "      <th>Recall</th>\n",
       "      <th>Precision</th>\n",
       "      <th>F1-score</th>\n",
       "      <th>best_params</th>\n",
       "      <th>best_score</th>\n",
       "    </tr>\n",
       "  </thead>\n",
       "  <tbody>\n",
       "    <tr>\n",
       "      <th>0</th>\n",
       "      <td>0.0</td>\n",
       "      <td>0.701923</td>\n",
       "      <td>0.711538</td>\n",
       "      <td>0.692308</td>\n",
       "      <td>0.747781</td>\n",
       "      <td>0.761834</td>\n",
       "      <td>0.741124</td>\n",
       "      <td>0.750000</td>\n",
       "      <td>0.684211</td>\n",
       "      <td>0.715596</td>\n",
       "      <td>{'logistic__C': 0.5, 'logistic__class_weight':...</td>\n",
       "      <td>0.728972</td>\n",
       "    </tr>\n",
       "    <tr>\n",
       "      <th>1</th>\n",
       "      <td>0.0</td>\n",
       "      <td>0.701923</td>\n",
       "      <td>0.692308</td>\n",
       "      <td>0.711538</td>\n",
       "      <td>0.745562</td>\n",
       "      <td>0.752959</td>\n",
       "      <td>0.744083</td>\n",
       "      <td>0.673077</td>\n",
       "      <td>0.714286</td>\n",
       "      <td>0.693069</td>\n",
       "      <td>{'logistic__C': 0.5, 'logistic__class_weight':...</td>\n",
       "      <td>0.635514</td>\n",
       "    </tr>\n",
       "    <tr>\n",
       "      <th>2</th>\n",
       "      <td>0.0</td>\n",
       "      <td>0.692308</td>\n",
       "      <td>0.711538</td>\n",
       "      <td>0.673077</td>\n",
       "      <td>0.755917</td>\n",
       "      <td>0.767751</td>\n",
       "      <td>0.751479</td>\n",
       "      <td>0.788462</td>\n",
       "      <td>0.661290</td>\n",
       "      <td>0.719298</td>\n",
       "      <td>{'logistic__C': 0.01, 'logistic__class_weight'...</td>\n",
       "      <td>0.644860</td>\n",
       "    </tr>\n",
       "    <tr>\n",
       "      <th>3</th>\n",
       "      <td>0.0</td>\n",
       "      <td>0.701923</td>\n",
       "      <td>0.692308</td>\n",
       "      <td>0.711538</td>\n",
       "      <td>0.751849</td>\n",
       "      <td>0.763314</td>\n",
       "      <td>0.742604</td>\n",
       "      <td>0.673077</td>\n",
       "      <td>0.714286</td>\n",
       "      <td>0.693069</td>\n",
       "      <td>{'logistic__C': 0.05, 'logistic__class_weight'...</td>\n",
       "      <td>0.738318</td>\n",
       "    </tr>\n",
       "    <tr>\n",
       "      <th>4</th>\n",
       "      <td>0.0</td>\n",
       "      <td>0.692308</td>\n",
       "      <td>0.692308</td>\n",
       "      <td>0.692308</td>\n",
       "      <td>0.744453</td>\n",
       "      <td>0.750000</td>\n",
       "      <td>0.742604</td>\n",
       "      <td>0.750000</td>\n",
       "      <td>0.672414</td>\n",
       "      <td>0.709091</td>\n",
       "      <td>{'logistic__C': 0.5, 'logistic__class_weight':...</td>\n",
       "      <td>0.728972</td>\n",
       "    </tr>\n",
       "  </tbody>\n",
       "</table>\n",
       "</div>"
      ],
      "text/plain": [
       "   variation  accuracy  accuracy_female  accuracy_male     auroc  \\\n",
       "0        0.0  0.701923         0.711538       0.692308  0.747781   \n",
       "1        0.0  0.701923         0.692308       0.711538  0.745562   \n",
       "2        0.0  0.692308         0.711538       0.673077  0.755917   \n",
       "3        0.0  0.701923         0.692308       0.711538  0.751849   \n",
       "4        0.0  0.692308         0.692308       0.692308  0.744453   \n",
       "\n",
       "   auroc_female  auroc_male    Recall  Precision  F1-score  \\\n",
       "0      0.761834    0.741124  0.750000   0.684211  0.715596   \n",
       "1      0.752959    0.744083  0.673077   0.714286  0.693069   \n",
       "2      0.767751    0.751479  0.788462   0.661290  0.719298   \n",
       "3      0.763314    0.742604  0.673077   0.714286  0.693069   \n",
       "4      0.750000    0.742604  0.750000   0.672414  0.709091   \n",
       "\n",
       "                                         best_params  best_score  \n",
       "0  {'logistic__C': 0.5, 'logistic__class_weight':...    0.728972  \n",
       "1  {'logistic__C': 0.5, 'logistic__class_weight':...    0.635514  \n",
       "2  {'logistic__C': 0.01, 'logistic__class_weight'...    0.644860  \n",
       "3  {'logistic__C': 0.05, 'logistic__class_weight'...    0.738318  \n",
       "4  {'logistic__C': 0.5, 'logistic__class_weight':...    0.728972  "
      ]
     },
     "execution_count": 39,
     "metadata": {},
     "output_type": "execute_result"
    }
   ],
   "source": [
    "data_LR.head()"
   ]
  },
  {
   "cell_type": "code",
   "execution_count": 40,
   "metadata": {},
   "outputs": [
    {
     "name": "stdout",
     "output_type": "stream",
     "text": [
      "LR Female ACC p-value with t-test 0.10393077767095028\n",
      "LR Male ACC p-value with t-test 0.14810572635735283\n",
      "LR Female AUROC p-value with t-test 0.4773868252091823\n",
      "LR Male AUROC p-value with t-test 0.15807477096365993\n"
     ]
    }
   ],
   "source": [
    "from statsmodels.formula.api import ols\n",
    "\n",
    "def get_p_value_ttest_LR(df, name):\n",
    "    # Define the formula using the column names directly\n",
    "    mdl_f_ACC = ols(formula='variation ~ accuracy_female', data=df)\n",
    "    results_f_ACC = mdl_f_ACC.fit()\n",
    "\n",
    "    mdl_m_ACC = ols(formula='variation ~ accuracy_male', data=df)\n",
    "    results_m_ACC = mdl_m_ACC.fit()\n",
    "\n",
    "    mdl_f_AUROC = ols(formula='variation ~ auroc_female', data=df)\n",
    "    results_f_AUROC = mdl_f_AUROC.fit()\n",
    "\n",
    "    mdl_m_AUROC = ols(formula='variation ~ auroc_male', data=df)\n",
    "    results_m_AUROC = mdl_m_AUROC.fit()\n",
    "    # Accessing parameters, standard errors, and p-values by index can lead to errors if the formula changes\n",
    "    # So, use the column name to make it more robust\n",
    "    p_value_female_ACC = results_f_ACC.pvalues['accuracy_female']\n",
    "    p_value_male_ACC = results_m_ACC.pvalues['accuracy_male']\n",
    "    p_value_female_AUROC = results_f_AUROC.pvalues['auroc_female']\n",
    "    p_value_male_AUROC = results_m_AUROC.pvalues['auroc_male']\n",
    "\n",
    "\n",
    "    print(f'{name} Female ACC p-value with t-test {p_value_female_ACC}')\n",
    "    print(f'{name} Male ACC p-value with t-test {p_value_male_ACC}')\n",
    "    print(f'{name} Female AUROC p-value with t-test {p_value_female_AUROC}')\n",
    "    print(f'{name} Male AUROC p-value with t-test {p_value_male_AUROC}')\n",
    "\n",
    "\n",
    "# Now call the function with the dataframe\n",
    "get_p_value_ttest_LR(data_LR, 'LR')"
   ]
  },
  {
   "cell_type": "code",
   "execution_count": 41,
   "metadata": {},
   "outputs": [
    {
     "name": "stdout",
     "output_type": "stream",
     "text": [
      "CNN Female ACC p-value with t-test 0.03966813202001576\n",
      "CNN Male ACC p-value with t-test 0.4721770433983439\n",
      "CNN Female AUROC p-value with t-test 0.337437393578936\n",
      "CNN Male AUROC p-value with t-test 0.6674101781956701\n"
     ]
    }
   ],
   "source": [
    "def get_p_value_ttest_CNN(df, name):\n",
    "    # Define the formula using the column names directly\n",
    "    mdl_f_ACC = ols(formula='variation ~ accuracy_female', data=df)\n",
    "    results_f_ACC = mdl_f_ACC.fit()\n",
    "\n",
    "    mdl_m_ACC = ols(formula='variation ~ accuracy_male', data=df)\n",
    "    results_m_ACC = mdl_m_ACC.fit()\n",
    "\n",
    "    mdl_f_AUROC = ols(formula='variation ~ ROC_female', data=df)\n",
    "    results_f_AUROC = mdl_f_AUROC.fit()\n",
    "\n",
    "    mdl_m_AUROC = ols(formula='variation ~ ROC_male', data=df)\n",
    "    results_m_AUROC = mdl_m_AUROC.fit()\n",
    "    # Accessing parameters, standard errors, and p-values by index can lead to errors if the formula changes\n",
    "    # So, use the column name to make it more robust\n",
    "    p_value_female_ACC = results_f_ACC.pvalues['accuracy_female']\n",
    "    p_value_male_ACC = results_m_ACC.pvalues['accuracy_male']\n",
    "    p_value_female_AUROC = results_f_AUROC.pvalues['ROC_female']\n",
    "    p_value_male_AUROC = results_m_AUROC.pvalues['ROC_male']\n",
    "\n",
    "\n",
    "    print(f'{name} Female ACC p-value with t-test {p_value_female_ACC}')\n",
    "    print(f'{name} Male ACC p-value with t-test {p_value_male_ACC}')\n",
    "    print(f'{name} Female AUROC p-value with t-test {p_value_female_AUROC}')\n",
    "    print(f'{name} Male AUROC p-value with t-test {p_value_male_AUROC}')\n",
    "\n",
    "\n",
    "# Now call the function with the dataframe\n",
    "get_p_value_ttest_CNN(data_CNN, 'CNN')"
   ]
  }
 ],
 "metadata": {
  "kernelspec": {
   "display_name": "bachelorenv",
   "language": "python",
   "name": "python3"
  },
  "language_info": {
   "codemirror_mode": {
    "name": "ipython",
    "version": 3
   },
   "file_extension": ".py",
   "mimetype": "text/x-python",
   "name": "python",
   "nbconvert_exporter": "python",
   "pygments_lexer": "ipython3",
   "version": "3.8.12"
  }
 },
 "nbformat": 4,
 "nbformat_minor": 2
}
