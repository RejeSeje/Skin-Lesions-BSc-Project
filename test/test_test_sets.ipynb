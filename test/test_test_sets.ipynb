{
 "cells": [
  {
   "cell_type": "code",
   "execution_count": 3,
   "metadata": {},
   "outputs": [
    {
     "name": "stdout",
     "output_type": "stream",
     "text": [
      "No duplicate patient ids found.\n",
      "No duplicate patient ids found.\n",
      "No duplicate patient ids found.\n",
      "No duplicate patient ids found.\n",
      "No duplicate patient ids found.\n",
      "No duplicate patient ids found.\n",
      "No duplicate patient ids found.\n",
      "No duplicate patient ids found.\n"
     ]
    }
   ],
   "source": [
    "import csv\n",
    "import pandas as pd\n",
    "\n",
    "\n",
    "def check_duplicate_patient_ids(csv_files):\n",
    "    patient_ids = {}\n",
    "    i = 0\n",
    "    # Iterate over the CSV files\n",
    "    for csv_file in csv_files:\n",
    "        df = pd.read_csv(csv_file)\n",
    "        patient_ids[i] = df['patient_id'].unique().tolist()\n",
    "        i += 1\n",
    "    \n",
    "    first_list = patient_ids[0]\n",
    "\n",
    "    # Iterate over remaining patient id's lists\n",
    "    for i in range(1, len(patient_ids)):\n",
    "        first_list.append(patient_ids[i])\n",
    "        if len(patient_ids) != len(set(patient_ids)):\n",
    "            print(\"Duplicate patient ids found.\")\n",
    "            break\n",
    "        else:\n",
    "            print(\"No duplicate patient ids found.\")\n",
    "\n",
    "\n",
    "\n",
    "# List of CSV files to check\n",
    "csv_files_lr = ['../data/lr/lr_splitted_data/m_f_ca_nc_test_0.csv', '../data/lr/lr_splitted_data/m_f_ca_nc_test_1.csv', '../data/lr/lr_splitted_data/m_f_ca_nc_test_2.csv', '../data/lr/lr_splitted_data/m_f_ca_nc_test_3.csv', '../data/lr/lr_splitted_data/m_f_ca_nc_test_4.csv']\n",
    "\n",
    "# Call the function to check CSV files\n",
    "check_duplicate_patient_ids(csv_files_lr)\n",
    "\n",
    "\n",
    "# List of CSV files to check\n",
    "csv_files_cnn = ['../data/cnn/cnn_splitted_data_once_augmented/m_f_ca_nc_test_0.csv', '../data/cnn/cnn_splitted_data_once_augmented/m_f_ca_nc_test_1.csv', '../data/cnn/cnn_splitted_data_once_augmented/m_f_ca_nc_test_2.csv', '../data/cnn/cnn_splitted_data_once_augmented/m_f_ca_nc_test_3.csv', '../data/cnn/cnn_splitted_data_once_augmented/m_f_ca_nc_test_4.csv']\n",
    "\n",
    "# Call the function to check CSV files\n",
    "check_duplicate_patient_ids(csv_files_cnn)\n"
   ]
  }
 ],
 "metadata": {
  "kernelspec": {
   "display_name": "bachelor",
   "language": "python",
   "name": "python3"
  },
  "language_info": {
   "codemirror_mode": {
    "name": "ipython",
    "version": 3
   },
   "file_extension": ".py",
   "mimetype": "text/x-python",
   "name": "python",
   "nbconvert_exporter": "python",
   "pygments_lexer": "ipython3",
   "version": "3.12.2"
  }
 },
 "nbformat": 4,
 "nbformat_minor": 2
}
