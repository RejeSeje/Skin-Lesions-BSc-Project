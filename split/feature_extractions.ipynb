{
 "cells": [
  {
   "cell_type": "code",
   "execution_count": 1,
   "metadata": {},
   "outputs": [],
   "source": [
    "import pandas as pd\n",
    "\n",
    "import sys\n",
    "sys.path.append('../')\n",
    "from handcrafted_methods import get_all_features as features"
   ]
  },
  {
   "cell_type": "markdown",
   "metadata": {},
   "source": [
    "Create and add all features to master_dataset"
   ]
  },
  {
   "cell_type": "code",
   "execution_count": null,
   "metadata": {},
   "outputs": [],
   "source": [
    "img = \"../data/images/lesion_images/\" \n",
    "masks = \"../data/images/lesion_masks/\"\n",
    "df = pd.read_csv(\"../data/metadata/fixed_metadata.csv\", index_col=0)\n",
    "\n",
    "df = features.getAllFeatures(df, img, masks)\n",
    "\n",
    "df.to_csv(\"../data/metadata/master_data.csv\", index=False)"
   ]
  },
  {
   "cell_type": "markdown",
   "metadata": {},
   "source": [
    "Create features to all once-augmented data"
   ]
  },
  {
   "cell_type": "code",
   "execution_count": null,
   "metadata": {},
   "outputs": [],
   "source": [
    "img = \"../data/images/augmented_images_once/\" \n",
    "masks = \"../data/images/augmented_masks_once/\"\n",
    "df = pd.read_csv(\"../data/metadata/once_augmented.csv\", index_col=0)\n",
    "\n",
    "df = features.getAllFeatures(df, img, masks)\n",
    "\n",
    "df.to_csv(\"../data/metadata/once_augmented_with_features.csv\", index=False)"
   ]
  },
  {
   "cell_type": "code",
   "execution_count": 4,
   "metadata": {},
   "outputs": [],
   "source": [
    "# Concat augmented data with master csv\n",
    "\n",
    "df = pd.concat([pd.read_csv(\"../data/metadata/master_data.csv\"), pd.read_csv(\"../data/metadata/once_augmented_with_features.csv\")], ignore_index=True)\n",
    "df.to_csv(\"../data/metadata/augmented_master_data.csv\", index=False)"
   ]
  }
 ],
 "metadata": {
  "kernelspec": {
   "display_name": "bachelor",
   "language": "python",
   "name": "python3"
  },
  "language_info": {
   "codemirror_mode": {
    "name": "ipython",
    "version": 3
   },
   "file_extension": ".py",
   "mimetype": "text/x-python",
   "name": "python",
   "nbconvert_exporter": "python",
   "pygments_lexer": "ipython3",
   "version": "3.12.1"
  }
 },
 "nbformat": 4,
 "nbformat_minor": 2
}
