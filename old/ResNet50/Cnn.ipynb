{
 "cells": [
  {
   "cell_type": "code",
   "execution_count": 6,
   "metadata": {},
   "outputs": [],
   "source": [
    "import torch.nn as nn\n",
    "import torch.optim as optim\n",
    "from torchvision import models, transforms, datasets\n",
    "from torchvision.models import resnet50, ResNet50_Weights\n",
    "from torch.utils.data import DataLoader\n",
    "import pandas as pd\n",
    "from PIL import Image\n",
    "import match_id_to_image as id2img\n",
    "import os\n",
    "import torch\n"
   ]
  },
  {
   "cell_type": "code",
   "execution_count": 7,
   "metadata": {},
   "outputs": [
    {
     "name": "stdout",
     "output_type": "stream",
     "text": [
      "tensor([0, 1, 1, 1, 1, 1, 1, 1, 1, 1, 1, 1, 1, 1, 1, 0, 1, 1])\n"
     ]
    },
    {
     "ename": "TypeError",
     "evalue": "unsupported format string passed to tuple.__format__",
     "output_type": "error",
     "traceback": [
      "\u001b[1;31m---------------------------------------------------------------------------\u001b[0m",
      "\u001b[1;31mTypeError\u001b[0m                                 Traceback (most recent call last)",
      "Cell \u001b[1;32mIn[7], line 81\u001b[0m\n\u001b[0;32m     79\u001b[0m \u001b[38;5;66;03m# Evaluate on validation set\u001b[39;00m\n\u001b[0;32m     80\u001b[0m val_accuracy \u001b[38;5;241m=\u001b[39m evaluate_model(weighted_model, val_loader)\n\u001b[1;32m---> 81\u001b[0m \u001b[38;5;28mprint\u001b[39m(\u001b[38;5;124mf\u001b[39m\u001b[38;5;124m'\u001b[39m\u001b[38;5;124mValidation Accuracy: \u001b[39m\u001b[38;5;132;01m{\u001b[39;00mval_accuracy\u001b[38;5;132;01m:\u001b[39;00m\u001b[38;5;124m.4f\u001b[39m\u001b[38;5;132;01m}\u001b[39;00m\u001b[38;5;124m'\u001b[39m)\n\u001b[0;32m     83\u001b[0m \u001b[38;5;66;03m# Evaluate on test set\u001b[39;00m\n\u001b[0;32m     84\u001b[0m test_accuracy \u001b[38;5;241m=\u001b[39m evaluate_model(weighted_model, test_loader)\n",
      "\u001b[1;31mTypeError\u001b[0m: unsupported format string passed to tuple.__format__"
     ]
    }
   ],
   "source": [
    "# Step 1: Load weighted ResNet-50 Model\n",
    "weighted_model = models.resnet50(weights=ResNet50_Weights.DEFAULT)\n",
    "\n",
    "# Step 2: Modify the Last Layer\n",
    "num_classes = 2\n",
    "num_ftrs = weighted_model.fc.in_features\n",
    "weighted_model.fc = nn.Linear(num_ftrs, num_classes)\n",
    "\n",
    "# Step 3: Prepare Your Dataset\n",
    "# Get the directory of the current script\n",
    "current_dir = r'C:\\Users\\andre\\dev\\BSc-Project\\BSc-Project\\data'\n",
    "# Construct relative paths based on the current directory to csv's\n",
    "csv_dir = os.path.join(current_dir, '..', 'data/splitted_csv/')\n",
    "# Construct relative paths based on the current directory to data's\n",
    "data_dir = os.path.join(current_dir, '..', 'pad-ufes/images/')\n",
    "\n",
    "# Example transforms\n",
    "transform = transforms.Compose([\n",
    "    transforms.Resize((224, 224)),\n",
    "    transforms.ToTensor(),\n",
    "    transforms.Normalize(mean=[0.485, 0.456, 0.406], std=[0.229, 0.224, 0.225]),\n",
    "])\n",
    "\n",
    "# Load CSV files\n",
    "train_csv = os.path.join(csv_dir, 'm_f_ca_nc_train_0_0.00_0.csv')\n",
    "val_csv = os.path.join(csv_dir, 'm_f_ca_nc_val_0_0.00_0.csv')\n",
    "test_csv = os.path.join(csv_dir, 'm_f_ca_nc_test_0.csv')\n",
    "\n",
    "\n",
    "# Create datasets\n",
    "train_dataset = id2img.CustomDataset(csv_file=train_csv, data_dir=data_dir, transform=transform)\n",
    "val_dataset = id2img.CustomDataset(csv_file=val_csv, data_dir=data_dir, transform=transform)\n",
    "test_dataset = id2img.CustomDataset(csv_file=test_csv, data_dir=data_dir, transform=transform)\n",
    "\n",
    "# Create DataLoaders\n",
    "train_loader = DataLoader(train_dataset, batch_size=32, shuffle=True)\n",
    "val_loader = DataLoader(val_dataset, batch_size=32)\n",
    "test_loader = DataLoader(test_dataset, batch_size=32)\n",
    "\n",
    "# Step 5: Define Loss Function and Optimizer\n",
    "criterion = nn.BCEWithLogitsLoss()\n",
    "optimizer = optim.SGD(weighted_model.parameters(), lr=0.001, momentum=0.9)\n",
    "\n",
    "# Step 6: Train the Model\n",
    "num_epochs = 1\n",
    "for epoch in range(num_epochs):\n",
    "    weighted_model.train()\n",
    "    for inputs, labels in train_loader:\n",
    "        optimizer.zero_grad()\n",
    "        outputs = weighted_model(inputs)\n",
    "        # Apply sigmoid activation to convert logits to probabilities\n",
    "        probabilities = torch.sigmoid(outputs)\n",
    "        # Convert labels to one-hot encoding\n",
    "        labels_one_hot = torch.zeros(labels.size(0), num_classes)\n",
    "        labels_one_hot.scatter_(1, labels.unsqueeze(1), 1)  # Fill one-hot tensor\n",
    "        # Calculate the loss\n",
    "        loss = criterion(outputs, labels_one_hot)\n",
    "        loss.backward()\n",
    "        optimizer.step()\n",
    "\n",
    "# Step 7: Evaluate the Model\n",
    "weighted_model.eval()\n",
    "\n",
    "def evaluate_model(model, dataloader):\n",
    "    model.eval()  # Set model to evaluation mode\n",
    "    total_correct = 0\n",
    "    total_samples = 0\n",
    "    with torch.no_grad():\n",
    "        for inputs, labels in dataloader:\n",
    "            outputs = model(inputs)\n",
    "            _, predicted = torch.max(outputs, 1)\n",
    "            total_samples += labels.size(0)\n",
    "            total_correct += (predicted == labels).sum().item()\n",
    "    predicted = predicted        \n",
    "    accuracy = total_correct / total_samples\n",
    "    print(predicted)\n",
    "    \n",
    "    return predicted\n",
    "\n",
    "# Evaluate on validation set\n",
    "val_accuracy = evaluate_model(weighted_model, val_loader)\n",
    "print(f'Validation Accuracy: {val_accuracy:.4f}')\n",
    "\n",
    "# Evaluate on test set\n",
    "test_accuracy = evaluate_model(weighted_model, test_loader)\n",
    "print(f'Test Accuracy: {test_accuracy:.4f}')\n"
   ]
  }
 ],
 "metadata": {
  "kernelspec": {
   "display_name": "bachelor",
   "language": "python",
   "name": "python3"
  },
  "language_info": {
   "codemirror_mode": {
    "name": "ipython",
    "version": 3
   },
   "file_extension": ".py",
   "mimetype": "text/x-python",
   "name": "python",
   "nbconvert_exporter": "python",
   "pygments_lexer": "ipython3",
   "version": "3.12.1"
  }
 },
 "nbformat": 4,
 "nbformat_minor": 2
}
