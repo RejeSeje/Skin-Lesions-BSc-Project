{
 "cells": [
  {
   "cell_type": "markdown",
   "metadata": {},
   "source": [
    "# Data exploration"
   ]
  },
  {
   "cell_type": "markdown",
   "metadata": {},
   "source": [
    "## Imports"
   ]
  },
  {
   "cell_type": "code",
   "execution_count": null,
   "metadata": {},
   "outputs": [],
   "source": [
    "# Here are all of our imports used for data cleaning and manipulation\n",
    "\n",
    "import pandas as pd\n",
    "import numpy as np\n",
    "import os\n",
    "import shutil\n",
    "import seaborn as sns\n",
    "import matplotlib.pyplot as plt"
   ]
  },
  {
   "cell_type": "markdown",
   "metadata": {},
   "source": [
    "## General exploration and some cleaning"
   ]
  },
  {
   "cell_type": "code",
   "execution_count": null,
   "metadata": {},
   "outputs": [],
   "source": [
    "# Reading in the data, with fixed lesion_id's\n",
    "rel_path = \"../data/metadata/fixed_metadata.csv\"\n",
    "\n",
    "df_pad_ufes = pd.read_csv(rel_path, index_col=0)"
   ]
  },
  {
   "cell_type": "code",
   "execution_count": null,
   "metadata": {},
   "outputs": [],
   "source": [
    "# Sorting the data by lesion_id to check for the new names we changed\n",
    "df_pad_ufes = df_pad_ufes.sort_values([\"lesion_id\"]) \n",
    "\n",
    "cancer_conditions = [\"BCC\", \"MEL\", \"SCC\"]\n",
    "no_cancer_conditions = [\"ACK\", \"NEV\", \"SEK\"]\n",
    "\n",
    "def label_diagnostic(diagnostic):\n",
    "    if diagnostic in cancer_conditions:\n",
    "        return 'Skin cancer'\n",
    "    elif diagnostic in no_cancer_conditions:\n",
    "        return 'Skin disease'\n",
    "\n",
    "# Applying the function to the \"diagnostic\" column to create a new \"cancer_label\" column\n",
    "df_pad_ufes['cancer_label'] = df_pad_ufes['diagnostic'].apply(label_diagnostic)\n",
    "df_pad_ufes"
   ]
  },
  {
   "cell_type": "code",
   "execution_count": null,
   "metadata": {},
   "outputs": [],
   "source": [
    "# Removing all the rows that doesn't have an entry in the \"gender\" column, as that\"s what we're focusing on\n",
    "df_pad_ufes = df_pad_ufes[~df_pad_ufes[\"gender\"].isna()]\n",
    "\n",
    "# Here we're dropping the duplicates, but keeping the first occurence of the lesion_id\n",
    "df_pad_ufes = df_pad_ufes.drop_duplicates(\"lesion_id\", keep = \"first\")\n",
    "\n",
    "# Grouping the counts of the diagones and genders, then we're making a pivot table to make it easier to read\n",
    "gender_diagnostic_counts = df_pad_ufes.groupby([\"gender\", \"diagnostic\"]).size().reset_index(name=\"count\")\n",
    "gender_diagnostic_pivot = gender_diagnostic_counts.pivot(index=\"diagnostic\", columns=\"gender\", values=\"count\")\n",
    "\n",
    "print(gender_diagnostic_pivot)\n",
    "print(df_pad_ufes.shape)"
   ]
  },
  {
   "cell_type": "code",
   "execution_count": null,
   "metadata": {},
   "outputs": [],
   "source": [
    "# We define a custom order for the x-axis\n",
    "custom_order = [\n",
    "    \"ACK (Skin disease)\", \"NEV (Skin disease)\", \"SEK (Skin disease)\", \n",
    "    \"BCC (Skin cancer)\", \"MEL (Skin cancer)\", \"SCC (Skin cancer)\"\n",
    "]\n",
    "\n",
    "# We remake the pivot table from before to include the cancer_label in the x-axis, with their diagnostic\n",
    "df_pad_ufes[\"diagnostic_info\"] = df_pad_ufes[\"diagnostic\"] + \" (\" + df_pad_ufes[\"cancer_label\"] + \")\"\n",
    "gender_diagnostic_counts = df_pad_ufes.groupby([\"gender\", \"diagnostic_info\"]).size().reset_index(name=\"count\")\n",
    "\n",
    "\n",
    "# Here we plot\n",
    "plt.figure(figsize=(10, 6))\n",
    "plots = sns.barplot(data=gender_diagnostic_counts, x=\"diagnostic_info\", y=\"count\", hue=\"gender\", palette=\"flare\", order=custom_order)\n",
    "plt.title(\"Distribution of the sexes and their diagnoses\", fontsize=15)\n",
    "plt.xlabel(\"Diagnoses\", fontsize=13)\n",
    "plt.ylabel(\"Frequency\", fontsize=13)\n",
    "plt.xticks(rotation=45)\n",
    "legend = plt.legend(title=\"Sexes\")\n",
    "sns.set_style(\"whitegrid\")\n",
    "plt.tight_layout() \n",
    "plt.savefig(\"../analysis/plots/diagnoses_distribution.png\", dpi=300, format=\"png\", bbox_inches=\"tight\")\n",
    "plt.show()"
   ]
  },
  {
   "cell_type": "markdown",
   "metadata": {},
   "source": [
    "### Checking for the instances where the lesion_id is shared between multiple patients\n",
    "\\\n",
    "This should now be at 0, as we have fixed it, by replacing the wrong values in the `df_pad_ufes.csv`, so we're just skipping it."
   ]
  },
  {
   "cell_type": "code",
   "execution_count": null,
   "metadata": {},
   "outputs": [],
   "source": [
    "duplicate_counts = df_pad_ufes.groupby(\"lesion_id\")[\"patient_id\"].agg({\"count\", \"unique\"})\n",
    "duplicates_with_different_patient_id = duplicate_counts[(duplicate_counts[\"count\"] > 1) & (duplicate_counts[\"unique\"].apply(len) > 1)]\n",
    "\n",
    "total_instances = duplicates_with_different_patient_id.shape[0]\n",
    "\n",
    "print(\"total instances of duplicates with different patient_id's:\", total_instances)\n",
    "for lesion_id, data in duplicates_with_different_patient_id.iterrows():\n",
    "    # prints if there are duplicates with different patient_id\n",
    "    print(\"lesion_id:\", lesion_id)\n",
    "    print(\"different patient_id's\", data[\"unique\"])\n",
    "    instances = df_pad_ufes[df_pad_ufes[\"lesion_id\"] == lesion_id]"
   ]
  },
  {
   "cell_type": "code",
   "execution_count": null,
   "metadata": {},
   "outputs": [],
   "source": [
    "cancer_conditions = [\"BCC\", \"MEL\", \"SCC\"]\n",
    "no_cancer_conditions = [\"ACK\", \"NEV\", \"SEK\"]\n",
    "genders = [\"FEMALE\", \"MALE\"]\n",
    "\n",
    "# Creating the categories that correspond to the Eike Petersen paper.\n",
    "female_cancer = df_pad_ufes[(df_pad_ufes[\"diagnostic\"].isin(cancer_conditions)) & (df_pad_ufes[\"gender\"] == genders[0])].copy()\n",
    "male_cancer = df_pad_ufes[(df_pad_ufes[\"diagnostic\"].isin(cancer_conditions)) & (df_pad_ufes[\"gender\"] == genders[1])].copy()\n",
    "\n",
    "female_no_cancer = df_pad_ufes[(df_pad_ufes[\"diagnostic\"].isin(no_cancer_conditions)) & (df_pad_ufes[\"gender\"] == genders[0])].copy()\n",
    "male_no_cancer = df_pad_ufes[(df_pad_ufes[\"diagnostic\"].isin(no_cancer_conditions)) & (df_pad_ufes[\"gender\"] == genders[1])].copy()\n",
    "\n",
    "# Creating variables that contain the ids of the patients that have cancer and don\"t have cancer\n",
    "female_cancer_id = female_cancer[\"patient_id\"]\n",
    "male_cancer_id = male_cancer[\"patient_id\"]\n",
    "female_no_cancer_id = female_no_cancer[\"patient_id\"]\n",
    "male_no_cancer_id = male_no_cancer[\"patient_id\"]\n",
    "\n",
    "\n",
    "print(\"Total of women in the dataset (after cleaning the data:\", len(female_cancer + female_no_cancer))\n",
    "print(\"Total of men in the dataset (after cleaning the data):\", len(male_cancer + male_no_cancer))\n",
    "print(\"Total:\", len(female_cancer + female_no_cancer + male_no_cancer + male_cancer))"
   ]
  },
  {
   "cell_type": "code",
   "execution_count": null,
   "metadata": {},
   "outputs": [],
   "source": [
    "# Checking how many patients have been biopsed\n",
    "print(len(df_pad_ufes[df_pad_ufes[\"biopsed\"] == True]))\n",
    "print(len(df_pad_ufes[df_pad_ufes[\"biopsed\"] == False]))\n",
    "df_pad_ufes[df_pad_ufes[\"biopsed\"] == False].head()"
   ]
  },
  {
   "cell_type": "code",
   "execution_count": null,
   "metadata": {},
   "outputs": [],
   "source": [
    "# Checking how many patients of each fitspatrick scale there are\n",
    "print(len(df_pad_ufes[df_pad_ufes[\"fitspatrick\"] == 1.0]))\n",
    "print(len(df_pad_ufes[df_pad_ufes[\"fitspatrick\"] == 2.0]))\n",
    "print(len(df_pad_ufes[df_pad_ufes[\"fitspatrick\"] == 3.0]))\n",
    "print(len(df_pad_ufes[df_pad_ufes[\"fitspatrick\"] == 4.0]))\n",
    "print(len(df_pad_ufes[df_pad_ufes[\"fitspatrick\"] == 5.0]))\n",
    "print(len(df_pad_ufes[df_pad_ufes[\"fitspatrick\"] == 6.0]))"
   ]
  },
  {
   "cell_type": "code",
   "execution_count": null,
   "metadata": {},
   "outputs": [],
   "source": [
    "pad1_and_2 = df_pad_ufes[(df_pad_ufes[\"fitspatrick\"] == 1.0) | (df_pad_ufes[\"fitspatrick\"] == 2.0)]\n",
    "pad1_and_2.shape"
   ]
  },
  {
   "cell_type": "code",
   "execution_count": null,
   "metadata": {},
   "outputs": [],
   "source": [
    "pad_rest = df_pad_ufes[(df_pad_ufes[\"fitspatrick\"] == 3.0) | (df_pad_ufes[\"fitspatrick\"] == 4.0)| (df_pad_ufes[\"fitspatrick\"] == 5.0)| (df_pad_ufes[\"fitspatrick\"] == 6.0)]\n",
    "pad_rest.shape"
   ]
  },
  {
   "cell_type": "code",
   "execution_count": null,
   "metadata": {},
   "outputs": [],
   "source": [
    "# Checking how many of each type of cancer there are based on their skin type (1 and 2)\n",
    "print(\"Fitzpatrick 1 and 2 with cancer\", len(pad1_and_2[pad1_and_2 [\"cancer_label\"] == \"Skin cancer\"]))\n",
    "print(\"Fitzpatrick 1 and 2 without cancer\", len(pad1_and_2[pad1_and_2 [\"cancer_label\"] == \"Skin disease\"]))\n",
    "\n",
    "# Checking how many of each type of cancer there are based on their skin type (3, 4, 5, 6)\n",
    "print(\"Fitzpatrick 3, 4, 5, 6 with cancer\", len(pad_rest[pad_rest [\"cancer_label\"] == \"Skin cancer\"]))\n",
    "print(\"Fitzpatrick 3, 4, 5, 6 without cancer\", len(pad_rest[pad_rest [\"cancer_label\"] == \"Skin disease\"]))"
   ]
  }
 ],
 "metadata": {
  "kernelspec": {
   "display_name": "bachelor",
   "language": "python",
   "name": "python3"
  },
  "language_info": {
   "codemirror_mode": {
    "name": "ipython",
    "version": 3
   },
   "file_extension": ".py",
   "mimetype": "text/x-python",
   "name": "python",
   "nbconvert_exporter": "python",
   "pygments_lexer": "ipython3",
   "version": "3.12.1"
  }
 },
 "nbformat": 4,
 "nbformat_minor": 2
}
