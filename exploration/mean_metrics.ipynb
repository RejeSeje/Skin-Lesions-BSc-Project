{
 "cells": [
  {
   "cell_type": "markdown",
   "metadata": {},
   "source": [
    "# Calculating the means of each metric for both models"
   ]
  },
  {
   "cell_type": "code",
   "execution_count": 1,
   "metadata": {},
   "outputs": [],
   "source": [
    "import pandas as pd"
   ]
  },
  {
   "cell_type": "code",
   "execution_count": 3,
   "metadata": {},
   "outputs": [],
   "source": [
    "data_cnn = pd.read_csv(\"../data/results/cnn_results/runs-2-1.csv\")"
   ]
  },
  {
   "cell_type": "code",
   "execution_count": 4,
   "metadata": {},
   "outputs": [],
   "source": [
    "data_cnn = data_cnn.drop(columns=[\"Start Time\", \"Duration\", \"Run ID\", \"Name\", \"Source Type\", \"Source Name\", \"User\", \"Status\"])"
   ]
  },
  {
   "cell_type": "code",
   "execution_count": null,
   "metadata": {},
   "outputs": [],
   "source": [
    "data_cnn.head()"
   ]
  },
  {
   "cell_type": "code",
   "execution_count": 5,
   "metadata": {},
   "outputs": [],
   "source": [
    "# acc = data_cnn[\"Accuracy\"].mean()\n",
    "# auroc = data_cnn[\"ROC\"].mean()\n",
    "acc_female = data_cnn[\"Accuracy_female\"].mean()\n",
    "acc_male = data_cnn[\"Accuracy_male\"].mean()\n",
    "auroc_female = data_cnn[\"ROC_female\"].mean()\n",
    "auroc_male = data_cnn[\"ROC_male\"].mean()\n",
    "precision = data_cnn[\"Precision\"].mean()\n",
    "recall = data_cnn[\"Recall\"].mean()\n",
    "f1 = data_cnn[\"F1-score\"].mean()"
   ]
  },
  {
   "cell_type": "code",
   "execution_count": 6,
   "metadata": {},
   "outputs": [],
   "source": [
    "# acc = round(data_cnn[\"Accuracy\"].mean(), 3)\n",
    "# auroc = round(data_cnn[\"ROC\"].mean(), 3)\n",
    "acc_female = round(data_cnn[\"Accuracy_female\"].mean(), 3)\n",
    "acc_male = round(data_cnn[\"Accuracy_male\"].mean(), 3)\n",
    "auroc_female = round(data_cnn[\"ROC_female\"].mean(), 3)\n",
    "auroc_male = round(data_cnn[\"ROC_male\"].mean(), 3)\n",
    "precision = round(data_cnn[\"Precision\"].mean(), 3)\n",
    "recall = round(data_cnn[\"Recall\"].mean(), 3)\n",
    "f1 = round(data_cnn[\"F1-score\"].mean(), 3)"
   ]
  },
  {
   "cell_type": "code",
   "execution_count": 7,
   "metadata": {},
   "outputs": [
    {
     "name": "stdout",
     "output_type": "stream",
     "text": [
      "acc_female: 0.65\n",
      "acc_male: 0.687\n",
      "auroc_female: 0.716\n",
      "auroc_male: 0.758\n",
      "precision: 0.655\n",
      "recall: 0.763\n",
      "f1: 0.689\n"
     ]
    }
   ],
   "source": [
    "print(f'acc_female: {acc_female}\\nacc_male: {acc_male}\\nauroc_female: {auroc_female}\\nauroc_male: {auroc_male}\\nprecision: {precision}\\nrecall: {recall}\\nf1: {f1}')"
   ]
  },
  {
   "cell_type": "code",
   "execution_count": null,
   "metadata": {},
   "outputs": [],
   "source": [
    "data_lr = pd.read_csv(\"../data/results/lr_results/lr_results_aug.csv\")"
   ]
  },
  {
   "cell_type": "code",
   "execution_count": null,
   "metadata": {},
   "outputs": [],
   "source": [
    "data_lr.head()"
   ]
  },
  {
   "cell_type": "code",
   "execution_count": null,
   "metadata": {},
   "outputs": [],
   "source": [
    "# acc = data_lr[\"accuracy\"].mean()\n",
    "# auroc = data_lr[\"roc_auc\"].mean()\n",
    "acc_female = round(data_lr[\"accuracy_female\"].mean(), 3)\n",
    "acc_male = round(data_lr[\"accuracy_male\"].mean(), 3)\n",
    "auroc_female = round(data_lr[\"roc_auc_female\"].mean(), 3)\n",
    "auroc_male = round(data_lr[\"roc_auc_male\"].mean(), 3)\n",
    "precision = round(data_lr[\"Precision\"].mean(), 3)\n",
    "recall = round(data_lr[\"Recall\"].mean(), 3)\n",
    "f1 = round(data_lr[\"F1-score\"].mean(), 3)"
   ]
  },
  {
   "cell_type": "code",
   "execution_count": null,
   "metadata": {},
   "outputs": [],
   "source": [
    "print(f'acc_female: {acc_female}\\nacc_male: {acc_male}\\nauroc_female: {auroc_female}\\nauroc_male: {auroc_male}\\nprecision: {precision}\\nrecall: {recall}\\nf1: {f1}')"
   ]
  }
 ],
 "metadata": {
  "kernelspec": {
   "display_name": "bachelor",
   "language": "python",
   "name": "python3"
  },
  "language_info": {
   "codemirror_mode": {
    "name": "ipython",
    "version": 3
   },
   "file_extension": ".py",
   "mimetype": "text/x-python",
   "name": "python",
   "nbconvert_exporter": "python",
   "pygments_lexer": "ipython3",
   "version": "3.12.1"
  }
 },
 "nbformat": 4,
 "nbformat_minor": 2
}
