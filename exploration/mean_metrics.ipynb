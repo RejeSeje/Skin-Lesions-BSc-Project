{
 "cells": [
  {
   "cell_type": "markdown",
   "metadata": {},
   "source": [
    "# Calculating the means of each metric for both models"
   ]
  },
  {
   "cell_type": "code",
   "execution_count": 1,
   "metadata": {},
   "outputs": [],
   "source": [
    "import pandas as pd\n",
    "import statistics"
   ]
  },
  {
   "cell_type": "code",
   "execution_count": 2,
   "metadata": {},
   "outputs": [],
   "source": [
    "data_cnn = pd.read_csv(\"../data/results/cnn_results/runs-2-1.csv\")"
   ]
  },
  {
   "cell_type": "code",
   "execution_count": 3,
   "metadata": {},
   "outputs": [],
   "source": [
    "data_cnn = data_cnn.drop(columns=[\"Start Time\", \"Duration\", \"Run ID\", \"Name\", \"Source Type\", \"Source Name\", \"User\", \"Status\"])"
   ]
  },
  {
   "cell_type": "code",
   "execution_count": 4,
   "metadata": {},
   "outputs": [
    {
     "data": {
      "text/html": [
       "<div>\n",
       "<style scoped>\n",
       "    .dataframe tbody tr th:only-of-type {\n",
       "        vertical-align: middle;\n",
       "    }\n",
       "\n",
       "    .dataframe tbody tr th {\n",
       "        vertical-align: top;\n",
       "    }\n",
       "\n",
       "    .dataframe thead th {\n",
       "        text-align: right;\n",
       "    }\n",
       "</style>\n",
       "<table border=\"1\" class=\"dataframe\">\n",
       "  <thead>\n",
       "    <tr style=\"text-align: right;\">\n",
       "      <th></th>\n",
       "      <th>Accuracy</th>\n",
       "      <th>Accuracy_female</th>\n",
       "      <th>Accuracy_male</th>\n",
       "      <th>F1-score</th>\n",
       "      <th>Precision</th>\n",
       "      <th>ROC</th>\n",
       "      <th>ROC_female</th>\n",
       "      <th>ROC_male</th>\n",
       "      <th>Recall</th>\n",
       "    </tr>\n",
       "  </thead>\n",
       "  <tbody>\n",
       "    <tr>\n",
       "      <th>0</th>\n",
       "      <td>0.730769</td>\n",
       "      <td>0.692308</td>\n",
       "      <td>0.769231</td>\n",
       "      <td>0.777778</td>\n",
       "      <td>0.662162</td>\n",
       "      <td>0.821746</td>\n",
       "      <td>0.779586</td>\n",
       "      <td>0.869822</td>\n",
       "      <td>0.942308</td>\n",
       "    </tr>\n",
       "    <tr>\n",
       "      <th>1</th>\n",
       "      <td>0.730769</td>\n",
       "      <td>0.711538</td>\n",
       "      <td>0.750000</td>\n",
       "      <td>0.777778</td>\n",
       "      <td>0.662162</td>\n",
       "      <td>0.802515</td>\n",
       "      <td>0.784024</td>\n",
       "      <td>0.834320</td>\n",
       "      <td>0.942308</td>\n",
       "    </tr>\n",
       "    <tr>\n",
       "      <th>2</th>\n",
       "      <td>0.769231</td>\n",
       "      <td>0.769231</td>\n",
       "      <td>0.769231</td>\n",
       "      <td>0.785714</td>\n",
       "      <td>0.733333</td>\n",
       "      <td>0.813979</td>\n",
       "      <td>0.801775</td>\n",
       "      <td>0.831361</td>\n",
       "      <td>0.846154</td>\n",
       "    </tr>\n",
       "    <tr>\n",
       "      <th>3</th>\n",
       "      <td>0.644231</td>\n",
       "      <td>0.615385</td>\n",
       "      <td>0.673077</td>\n",
       "      <td>0.626263</td>\n",
       "      <td>0.659574</td>\n",
       "      <td>0.690089</td>\n",
       "      <td>0.649408</td>\n",
       "      <td>0.733728</td>\n",
       "      <td>0.596154</td>\n",
       "    </tr>\n",
       "    <tr>\n",
       "      <th>4</th>\n",
       "      <td>0.682692</td>\n",
       "      <td>0.673077</td>\n",
       "      <td>0.692308</td>\n",
       "      <td>0.751880</td>\n",
       "      <td>0.617284</td>\n",
       "      <td>0.824334</td>\n",
       "      <td>0.813609</td>\n",
       "      <td>0.832840</td>\n",
       "      <td>0.961538</td>\n",
       "    </tr>\n",
       "  </tbody>\n",
       "</table>\n",
       "</div>"
      ],
      "text/plain": [
       "   Accuracy  Accuracy_female  Accuracy_male  F1-score  Precision       ROC  \\\n",
       "0  0.730769         0.692308       0.769231  0.777778   0.662162  0.821746   \n",
       "1  0.730769         0.711538       0.750000  0.777778   0.662162  0.802515   \n",
       "2  0.769231         0.769231       0.769231  0.785714   0.733333  0.813979   \n",
       "3  0.644231         0.615385       0.673077  0.626263   0.659574  0.690089   \n",
       "4  0.682692         0.673077       0.692308  0.751880   0.617284  0.824334   \n",
       "\n",
       "   ROC_female  ROC_male    Recall  \n",
       "0    0.779586  0.869822  0.942308  \n",
       "1    0.784024  0.834320  0.942308  \n",
       "2    0.801775  0.831361  0.846154  \n",
       "3    0.649408  0.733728  0.596154  \n",
       "4    0.813609  0.832840  0.961538  "
      ]
     },
     "execution_count": 4,
     "metadata": {},
     "output_type": "execute_result"
    }
   ],
   "source": [
    "data_cnn.head()"
   ]
  },
  {
   "cell_type": "code",
   "execution_count": 5,
   "metadata": {},
   "outputs": [],
   "source": [
    "# Calculating the mean\n",
    "acc_female = data_cnn[\"Accuracy_female\"].mean()\n",
    "acc_male = data_cnn[\"Accuracy_male\"].mean()\n",
    "auroc_female = data_cnn[\"ROC_female\"].mean()\n",
    "auroc_male = data_cnn[\"ROC_male\"].mean()\n",
    "precision = data_cnn[\"Precision\"].mean()\n",
    "recall = data_cnn[\"Recall\"].mean()\n",
    "f1 = data_cnn[\"F1-score\"].mean()\n",
    "\n",
    "# Calculating the standard deviation\n",
    "acc_female_std = data_cnn[\"Accuracy_female\"].std()\n",
    "acc_male_std = data_cnn[\"Accuracy_male\"].std()\n",
    "auroc_female_std = data_cnn[\"ROC_female\"].std()\n",
    "auroc_male_std = data_cnn[\"ROC_male\"].std()\n",
    "precision_std = data_cnn[\"Precision\"].std()\n",
    "recall_std = data_cnn[\"Recall\"].std()\n",
    "f1_std = data_cnn[\"F1-score\"].std()"
   ]
  },
  {
   "cell_type": "code",
   "execution_count": 6,
   "metadata": {},
   "outputs": [],
   "source": [
    "form_acc_female  = f\"{acc_female:.3f} ± {acc_female_std:.3f}\"\n",
    "form_acc_male = f\"{acc_male:.3f} ± {acc_male_std:.3f}\"\n",
    "form_auroc_female = f\"{auroc_female:.3f} ± {auroc_female_std:.3f}\"\n",
    "form_auroc_male = f\"{auroc_male:.3f} ± {auroc_male_std:.3f}\"\n",
    "form_precision = f\"{precision:.3f} ± {precision_std:.3f}\"\n",
    "form_recall = f\"{recall:.3f} ± {recall_std:.3f}\"\n",
    "form_f1 = f\"{f1:.3f} ± {f1_std:.3f}\""
   ]
  },
  {
   "cell_type": "code",
   "execution_count": 7,
   "metadata": {},
   "outputs": [
    {
     "name": "stdout",
     "output_type": "stream",
     "text": [
      "acc_female: 0.650 ± 0.057\n",
      "acc_male: 0.687 ± 0.053\n",
      "auroc_female: 0.716 ± 0.075\n",
      "auroc_male: 0.758 ± 0.059\n",
      "precision: 0.655 ± 0.065\n",
      "recall: 0.763 ± 0.162\n",
      "f1: 0.689 ± 0.081\n"
     ]
    }
   ],
   "source": [
    "print(f'acc_female: {form_acc_female}\\nacc_male: {form_acc_male}\\nauroc_female: {form_auroc_female}\\nauroc_male: {form_auroc_male}\\nprecision: {form_precision}\\nrecall: {form_recall}\\nf1: {form_f1}')"
   ]
  },
  {
   "cell_type": "code",
   "execution_count": 9,
   "metadata": {},
   "outputs": [],
   "source": [
    "data_lr = pd.read_csv(\"../data/results/lr_results/final_lr_results.csv\")"
   ]
  },
  {
   "cell_type": "code",
   "execution_count": 10,
   "metadata": {},
   "outputs": [
    {
     "data": {
      "text/html": [
       "<div>\n",
       "<style scoped>\n",
       "    .dataframe tbody tr th:only-of-type {\n",
       "        vertical-align: middle;\n",
       "    }\n",
       "\n",
       "    .dataframe tbody tr th {\n",
       "        vertical-align: top;\n",
       "    }\n",
       "\n",
       "    .dataframe thead th {\n",
       "        text-align: right;\n",
       "    }\n",
       "</style>\n",
       "<table border=\"1\" class=\"dataframe\">\n",
       "  <thead>\n",
       "    <tr style=\"text-align: right;\">\n",
       "      <th></th>\n",
       "      <th>variation</th>\n",
       "      <th>accuracy</th>\n",
       "      <th>accuracy_female</th>\n",
       "      <th>accuracy_male</th>\n",
       "      <th>auroc</th>\n",
       "      <th>auroc_female</th>\n",
       "      <th>auroc_male</th>\n",
       "      <th>Recall</th>\n",
       "      <th>Precision</th>\n",
       "      <th>F1-score</th>\n",
       "      <th>best_params</th>\n",
       "      <th>best_score</th>\n",
       "    </tr>\n",
       "  </thead>\n",
       "  <tbody>\n",
       "    <tr>\n",
       "      <th>0</th>\n",
       "      <td>0.0</td>\n",
       "      <td>0.701923</td>\n",
       "      <td>0.711538</td>\n",
       "      <td>0.692308</td>\n",
       "      <td>0.747781</td>\n",
       "      <td>0.761834</td>\n",
       "      <td>0.741124</td>\n",
       "      <td>0.750000</td>\n",
       "      <td>0.684211</td>\n",
       "      <td>0.715596</td>\n",
       "      <td>{'logistic__C': 0.5, 'logistic__class_weight':...</td>\n",
       "      <td>0.728972</td>\n",
       "    </tr>\n",
       "    <tr>\n",
       "      <th>1</th>\n",
       "      <td>0.0</td>\n",
       "      <td>0.701923</td>\n",
       "      <td>0.692308</td>\n",
       "      <td>0.711538</td>\n",
       "      <td>0.745562</td>\n",
       "      <td>0.752959</td>\n",
       "      <td>0.744083</td>\n",
       "      <td>0.673077</td>\n",
       "      <td>0.714286</td>\n",
       "      <td>0.693069</td>\n",
       "      <td>{'logistic__C': 0.5, 'logistic__class_weight':...</td>\n",
       "      <td>0.635514</td>\n",
       "    </tr>\n",
       "    <tr>\n",
       "      <th>2</th>\n",
       "      <td>0.0</td>\n",
       "      <td>0.692308</td>\n",
       "      <td>0.711538</td>\n",
       "      <td>0.673077</td>\n",
       "      <td>0.755917</td>\n",
       "      <td>0.767751</td>\n",
       "      <td>0.751479</td>\n",
       "      <td>0.788462</td>\n",
       "      <td>0.661290</td>\n",
       "      <td>0.719298</td>\n",
       "      <td>{'logistic__C': 0.01, 'logistic__class_weight'...</td>\n",
       "      <td>0.644860</td>\n",
       "    </tr>\n",
       "    <tr>\n",
       "      <th>3</th>\n",
       "      <td>0.0</td>\n",
       "      <td>0.701923</td>\n",
       "      <td>0.692308</td>\n",
       "      <td>0.711538</td>\n",
       "      <td>0.751849</td>\n",
       "      <td>0.763314</td>\n",
       "      <td>0.742604</td>\n",
       "      <td>0.673077</td>\n",
       "      <td>0.714286</td>\n",
       "      <td>0.693069</td>\n",
       "      <td>{'logistic__C': 0.05, 'logistic__class_weight'...</td>\n",
       "      <td>0.738318</td>\n",
       "    </tr>\n",
       "    <tr>\n",
       "      <th>4</th>\n",
       "      <td>0.0</td>\n",
       "      <td>0.692308</td>\n",
       "      <td>0.692308</td>\n",
       "      <td>0.692308</td>\n",
       "      <td>0.744453</td>\n",
       "      <td>0.750000</td>\n",
       "      <td>0.742604</td>\n",
       "      <td>0.750000</td>\n",
       "      <td>0.672414</td>\n",
       "      <td>0.709091</td>\n",
       "      <td>{'logistic__C': 0.5, 'logistic__class_weight':...</td>\n",
       "      <td>0.728972</td>\n",
       "    </tr>\n",
       "  </tbody>\n",
       "</table>\n",
       "</div>"
      ],
      "text/plain": [
       "   variation  accuracy  accuracy_female  accuracy_male     auroc  \\\n",
       "0        0.0  0.701923         0.711538       0.692308  0.747781   \n",
       "1        0.0  0.701923         0.692308       0.711538  0.745562   \n",
       "2        0.0  0.692308         0.711538       0.673077  0.755917   \n",
       "3        0.0  0.701923         0.692308       0.711538  0.751849   \n",
       "4        0.0  0.692308         0.692308       0.692308  0.744453   \n",
       "\n",
       "   auroc_female  auroc_male    Recall  Precision  F1-score  \\\n",
       "0      0.761834    0.741124  0.750000   0.684211  0.715596   \n",
       "1      0.752959    0.744083  0.673077   0.714286  0.693069   \n",
       "2      0.767751    0.751479  0.788462   0.661290  0.719298   \n",
       "3      0.763314    0.742604  0.673077   0.714286  0.693069   \n",
       "4      0.750000    0.742604  0.750000   0.672414  0.709091   \n",
       "\n",
       "                                         best_params  best_score  \n",
       "0  {'logistic__C': 0.5, 'logistic__class_weight':...    0.728972  \n",
       "1  {'logistic__C': 0.5, 'logistic__class_weight':...    0.635514  \n",
       "2  {'logistic__C': 0.01, 'logistic__class_weight'...    0.644860  \n",
       "3  {'logistic__C': 0.05, 'logistic__class_weight'...    0.738318  \n",
       "4  {'logistic__C': 0.5, 'logistic__class_weight':...    0.728972  "
      ]
     },
     "execution_count": 10,
     "metadata": {},
     "output_type": "execute_result"
    }
   ],
   "source": [
    "data_lr.head()"
   ]
  },
  {
   "cell_type": "code",
   "execution_count": null,
   "metadata": {},
   "outputs": [],
   "source": [
    "# Calling the mean\n",
    "acc_female = data_lr[\"accuracy_female\"].mean()\n",
    "acc_male = data_lr[\"accuracy_male\"].mean()\n",
    "auroc_female = data_lr[\"auroc_female\"].mean()\n",
    "auroc_male = data_lr[\"auroc_male\"].mean()\n",
    "precision = data_lr[\"Precision\"].mean()\n",
    "recall = data_lr[\"Recall\"].mean()\n",
    "f1 = data_lr[\"F1-score\"].mean()\n",
    "\n",
    "# Calculating the standard deviation\n",
    "acc_female_std = data_lr[\"accuracy_female\"].std()\n",
    "acc_male_std = data_lr[\"accuracy_male\"].std()\n",
    "auroc_female_std = data_lr[\"auroc_female\"].std()\n",
    "auroc_male_std = data_lr[\"auroc_male\"].std()\n",
    "precision_std = data_lr[\"Precision\"].std()\n",
    "recall_std = data_lr[\"Recall\"].std()\n",
    "f1_std = data_lr[\"F1-score\"].std()"
   ]
  },
  {
   "cell_type": "code",
   "execution_count": null,
   "metadata": {},
   "outputs": [],
   "source": [
    "form_acc_female  = f\"{acc_female:.3f} ± {acc_female_std:.3f}\"\n",
    "form_acc_male = f\"{acc_male:.3f} ± {acc_male_std:.3f}\"\n",
    "form_auroc_female = f\"{auroc_female:.3f} ± {auroc_female_std:.3f}\"\n",
    "form_auroc_male = f\"{auroc_male:.3f} ± {auroc_male_std:.3f}\"\n",
    "form_precision = f\"{precision:.3f} ± {precision_std:.3f}\"\n",
    "form_recall = f\"{recall:.3f} ± {recall_std:.3f}\"\n",
    "form_f1 = f\"{f1:.3f} ± {f1_std:.3f}\""
   ]
  },
  {
   "cell_type": "code",
   "execution_count": null,
   "metadata": {},
   "outputs": [
    {
     "name": "stdout",
     "output_type": "stream",
     "text": [
      "acc_female: 0.682 ± 0.059\n",
      "acc_male: 0.684 ± 0.080\n",
      "auroc_female: 0.745 ± 0.052\n",
      "auroc_male: 0.727 ± 0.081\n",
      "precision: 0.666 ± 0.052\n",
      "recall: 0.743 ± 0.069\n",
      "f1: 0.701 ± 0.047\n"
     ]
    }
   ],
   "source": [
    "print(f'acc_female: {form_acc_female}\\nacc_male: {form_acc_male}\\nauroc_female: {form_auroc_female}\\nauroc_male: {form_auroc_male}\\nprecision: {form_precision}\\nrecall: {form_recall}\\nf1: {form_f1}')"
   ]
  },
  {
   "cell_type": "code",
   "execution_count": null,
   "metadata": {},
   "outputs": [],
   "source": []
  }
 ],
 "metadata": {
  "kernelspec": {
   "display_name": "bachelor",
   "language": "python",
   "name": "python3"
  },
  "language_info": {
   "codemirror_mode": {
    "name": "ipython",
    "version": 3
   },
   "file_extension": ".py",
   "mimetype": "text/x-python",
   "name": "python",
   "nbconvert_exporter": "python",
   "pygments_lexer": "ipython3",
   "version": "3.12.1"
  }
 },
 "nbformat": 4,
 "nbformat_minor": 2
}
